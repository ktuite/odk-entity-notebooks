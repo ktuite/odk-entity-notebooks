{
 "cells": [
  {
   "cell_type": "code",
   "execution_count": null,
   "id": "559e9709-fbc9-46a3-a50d-5529b22a46d5",
   "metadata": {},
   "outputs": [],
   "source": [
    "from pyodk.client import Client"
   ]
  },
  {
   "cell_type": "code",
   "execution_count": null,
   "id": "0279d63c-4ef0-4719-bbde-5d8ef07b1162",
   "metadata": {},
   "outputs": [],
   "source": [
    "client = Client(config_path=\"dev.toml\")\n",
    "client.open()\n",
    "client.projects.list()"
   ]
  },
  {
   "cell_type": "code",
   "execution_count": null,
   "id": "0a1eaa98",
   "metadata": {},
   "outputs": [],
   "source": []
  }
 ],
 "metadata": {
  "kernelspec": {
   "display_name": "Python 3 (ipykernel)",
   "language": "python",
   "name": "python3"
  },
  "language_info": {
   "codemirror_mode": {
    "name": "ipython",
    "version": 3
   },
   "file_extension": ".py",
   "mimetype": "text/x-python",
   "name": "python",
   "nbconvert_exporter": "python",
   "pygments_lexer": "ipython3",
   "version": "3.8.1"
  }
 },
 "nbformat": 4,
 "nbformat_minor": 5
}
