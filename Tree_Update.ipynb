{
 "cells": [
  {
   "cell_type": "code",
   "execution_count": null,
   "id": "559e9709-fbc9-46a3-a50d-5529b22a46d5",
   "metadata": {},
   "outputs": [],
   "source": [
    "import pystache\n",
    "import random\n",
    "import uuid\n",
    "\n",
    "from pyodk.client import Client"
   ]
  },
  {
   "cell_type": "code",
   "execution_count": null,
   "id": "0279d63c-4ef0-4719-bbde-5d8ef07b1162",
   "metadata": {},
   "outputs": [],
   "source": [
    "client = Client(config_path=\"dev.toml\", project_id=1)\n",
    "client.open()\n",
    "\n",
    "print(f'Current project ID: {client.project_id}')"
   ]
  },
  {
   "cell_type": "markdown",
   "id": "c0b4e413",
   "metadata": {},
   "source": [
    "## Upload and publish tree registration form"
   ]
  },
  {
   "cell_type": "code",
   "execution_count": null,
   "id": "a758050d",
   "metadata": {},
   "outputs": [],
   "source": [
    "with open('forms/tree_registration.xml', 'r') as f:\n",
    "    form_xml = f.read()\n",
    "    r = client.post(f'/projects/{client.project_id}/forms?publish=true', form_xml)\n",
    "    print(r.json())"
   ]
  },
  {
   "cell_type": "markdown",
   "id": "c2b35284",
   "metadata": {},
   "source": [
    "## Upload a submission to register a tree"
   ]
  },
  {
   "cell_type": "code",
   "execution_count": null,
   "id": "996b030a",
   "metadata": {},
   "outputs": [],
   "source": [
    "with open('forms/tree_registration_sub.xml', 'r') as f:\n",
    "    sub_template = f.read()\n",
    "    \n",
    "    sub_xml = pystache.render(sub_template, {\n",
    "        'instanceId': uuid.uuid4(),\n",
    "        'instanceName': 'mora tree',\n",
    "        \n",
    "        'species': 'mora',\n",
    "        'circumference': 123,\n",
    "        \n",
    "        'entityLabel': 'mora entity',\n",
    "        'entityUuid': uuid.uuid4(),\n",
    "        \n",
    "    })\n",
    "    \n",
    "    print(sub_xml)\n",
    "    \n",
    "    r = client.post(f'/projects/{client.project_id}/forms/trees_registration/submissions', sub_xml)\n",
    "    print(r.json())"
   ]
  },
  {
   "cell_type": "code",
   "execution_count": null,
   "id": "8e6e4986",
   "metadata": {},
   "outputs": [],
   "source": []
  }
 ],
 "metadata": {
  "kernelspec": {
   "display_name": "Python 3 (ipykernel)",
   "language": "python",
   "name": "python3"
  },
  "language_info": {
   "codemirror_mode": {
    "name": "ipython",
    "version": 3
   },
   "file_extension": ".py",
   "mimetype": "text/x-python",
   "name": "python",
   "nbconvert_exporter": "python",
   "pygments_lexer": "ipython3",
   "version": "3.8.1"
  }
 },
 "nbformat": 4,
 "nbformat_minor": 5
}
